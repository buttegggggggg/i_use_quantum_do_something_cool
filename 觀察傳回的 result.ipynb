{
 "cells": [
  {
   "cell_type": "code",
   "execution_count": 1,
   "metadata": {},
   "outputs": [
    {
     "name": "stderr",
     "output_type": "stream",
     "text": [
      "C:\\Users\\yutta\\AppData\\Local\\Temp\\ipykernel_10392\\1497996934.py:4: DeprecationWarning: The package qiskit.providers.ibmq is being deprecated. Please see https://ibm.biz/provider_migration_guide to get instructions on how to migrate to qiskit-ibm-provider (https://github.com/Qiskit/qiskit-ibm-provider) and qiskit-ibm-runtime (https://github.com/Qiskit/qiskit-ibm-runtime).\n",
      "  from utility_functions import run_circuits, IBMQ_backends\n"
     ]
    },
    {
     "name": "stdout",
     "output_type": "stream",
     "text": [
      "Using ibm_lagos\n",
      "n = 1\n",
      "[1.0]\n",
      "n = 2\n",
      "[1.0, 0.5]\n",
      "n = 3\n",
      "[1.0, 0.5, 0.3333333333333333]\n"
     ]
    }
   ],
   "source": [
    "from os import getcwd\n",
    "from sys import path\n",
    "path.append(getcwd())\n",
    "from utility_functions import run_circuits, IBMQ_backends\n",
    "run_circuits(3, 4, IBMQ_backends.least_busy, False, True)"
   ]
  }
 ],
 "metadata": {
  "kernelspec": {
   "display_name": "i_use_quantum_do_something_cool",
   "language": "python",
   "name": "python3"
  },
  "language_info": {
   "codemirror_mode": {
    "name": "ipython",
    "version": 3
   },
   "file_extension": ".py",
   "mimetype": "text/x-python",
   "name": "python",
   "nbconvert_exporter": "python",
   "pygments_lexer": "ipython3",
   "version": "3.11.5"
  }
 },
 "nbformat": 4,
 "nbformat_minor": 2
}
