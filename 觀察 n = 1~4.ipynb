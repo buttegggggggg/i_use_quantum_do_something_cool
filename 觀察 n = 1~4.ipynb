{
 "cells": [
  {
   "cell_type": "code",
   "execution_count": 1,
   "metadata": {},
   "outputs": [
    {
     "name": "stderr",
     "output_type": "stream",
     "text": [
      "C:\\Users\\yutta\\AppData\\Local\\Temp\\ipykernel_300\\4133295480.py:4: DeprecationWarning: The package qiskit.providers.ibmq is being deprecated. Please see https://ibm.biz/provider_migration_guide to get instructions on how to migrate to qiskit-ibm-provider (https://github.com/Qiskit/qiskit-ibm-provider) and qiskit-ibm-runtime (https://github.com/Qiskit/qiskit-ibm-runtime).\n",
      "  from utility_functions import run_circuits, IBMQ_backends\n"
     ]
    }
   ],
   "source": [
    "from os import getcwd\n",
    "from sys import path\n",
    "path.append(getcwd())\n",
    "from utility_functions import run_circuits, IBMQ_backends"
   ]
  },
  {
   "cell_type": "code",
   "execution_count": 2,
   "id": "c7702374-b18b-4189-af83-88f3a9b785ce",
   "metadata": {
    "tags": []
   },
   "outputs": [
    {
     "name": "stdout",
     "output_type": "stream",
     "text": [
      "Using ibm_lagos\n",
      "n = 1\n",
      "[0.0]\n",
      "Using ibm_lagos\n",
      "n = 2\n",
      "[0.0, 0.5]\n",
      "Using ibm_lagos\n",
      "n = 3\n",
      "[0.0, 0.5, 0.6666666666666666]\n"
     ]
    }
   ],
   "source": [
    "run_circuits(1, 4, IBMQ_backends.ibm_lagos, False)"
   ]
  },
  {
   "cell_type": "code",
   "execution_count": 3,
   "metadata": {},
   "outputs": [
    {
     "name": "stdout",
     "output_type": "stream",
     "text": [
      "asttokens==2.4.1\n",
      "backoff==2.2.1\n",
      "backports.functools-lru-cache==1.6.5\n",
      "certifi==2023.7.22\n",
      "cffi==1.16.0\n",
      "charset-normalizer==3.3.2\n",
      "colorama==0.4.6\n",
      "comm==0.1.4\n",
      "contourpy==1.2.0\n",
      "cryptography==41.0.5\n",
      "cycler==0.12.1\n",
      "debugpy==1.6.7\n",
      "decorator==5.1.1\n",
      "dill==0.3.7\n",
      "exceptiongroup==1.1.3\n",
      "executing==2.0.1\n",
      "fonttools==4.44.3\n",
      "ibm-cloud-sdk-core==3.18.0\n",
      "ibm-platform-services==0.47.0\n",
      "idna==3.4\n",
      "importlib-metadata==6.8.0\n",
      "ipykernel==6.26.0\n",
      "ipynb==0.5.1\n",
      "ipython==8.17.2\n",
      "ipywidgets==8.1.1\n",
      "jedi==0.19.1\n",
      "jupyter-client==8.6.0\n",
      "jupyter-core==5.5.0\n",
      "jupyterlab-widgets==3.0.9\n",
      "kiwisolver==1.4.5\n",
      "matplotlib-inline==0.1.6\n",
      "matplotlib==3.8.1\n",
      "mpmath==1.3.0\n",
      "nest-asyncio==1.5.8\n",
      "ntlm-auth==1.5.0\n",
      "numpy==1.23.5\n",
      "packaging==23.2\n",
      "pandas==2.1.3\n",
      "parso==0.8.3\n",
      "pbr==6.0.0\n",
      "pickleshare==0.7.5\n",
      "pillow==10.1.0\n",
      "pip==23.3\n",
      "platformdirs==4.0.0\n",
      "ply==3.11\n",
      "prompt-toolkit==3.0.41\n",
      "psutil==5.9.0\n",
      "pure-eval==0.2.2\n",
      "pycparser==2.21\n",
      "pydot==1.4.2\n",
      "pygments==2.16.1\n",
      "pyjwt==2.8.0\n",
      "pylatexenc==2.10\n",
      "pyparsing==3.1.1\n",
      "python-dateutil==2.8.2\n",
      "pytz==2023.3.post1\n",
      "pywin32==305.1\n",
      "pyzmq==25.1.0\n",
      "qiskit-ibm-provider==0.7.2\n",
      "qiskit-ibm-runtime==0.14.0\n",
      "qiskit-ibmq-provider==0.20.2\n",
      "qiskit-terra==0.45.0\n",
      "qiskit==0.45.0\n",
      "requests-ntlm==1.1.0\n",
      "requests==2.31.0\n",
      "rustworkx==0.13.2\n",
      "scipy==1.11.3\n",
      "seaborn==0.13.0\n",
      "setuptools==68.0.0\n",
      "six==1.16.0\n",
      "sspilib==0.1.0\n",
      "stack-data==0.6.2\n",
      "stevedore==5.1.0\n",
      "sympy==1.12\n",
      "tornado==6.3.3\n",
      "traitlets==5.13.0\n",
      "typing-extensions==4.8.0\n",
      "tzdata==2023.3\n",
      "urllib3==1.26.18\n",
      "wcwidth==0.2.10\n",
      "websocket-client==1.6.4\n",
      "websockets==12.0\n",
      "wheel==0.41.2\n",
      "widgetsnbextension==4.0.9\n",
      "zipp==3.17.0\n"
     ]
    }
   ],
   "source": [
    "import pkg_resources\n",
    "\n",
    "installed_packages = pkg_resources.working_set\n",
    "installed_packages_list = sorted([\"%s==%s\" % (i.key, i.version) for i in installed_packages])\n",
    "for package in installed_packages_list:\n",
    "    print(package)\n"
   ]
  },
  {
   "cell_type": "code",
   "execution_count": 4,
   "metadata": {},
   "outputs": [
    {
     "name": "stdout",
     "output_type": "stream",
     "text": [
      "Using ibm_lagos\n",
      "n = 1\n",
      "[1.0]\n",
      "Using ibm_lagos\n",
      "n = 2\n",
      "[1.0, 1.0]\n",
      "Using ibm_lagos\n",
      "n = 3\n",
      "[1.0, 1.0, 0.6666666666666666]\n",
      "Using ibm_lagos\n",
      "n = 4\n",
      "[1.0, 1.0, 0.6666666666666666, 0.75]\n",
      "Using ibm_lagos\n",
      "n = 5\n",
      "[1.0, 1.0, 0.6666666666666666, 0.75, 0.4]\n",
      "Using ibm_lagos\n",
      "n = 6\n",
      "[1.0, 1.0, 0.6666666666666666, 0.75, 0.4, 0.6666666666666666]\n",
      "Using ibm_lagos\n",
      "n = 7\n",
      "[1.0, 1.0, 0.6666666666666666, 0.75, 0.4, 0.6666666666666666, 0.7142857142857143]\n",
      "Using ibm_lagos\n",
      "n = 8\n",
      "[1.0, 1.0, 0.6666666666666666, 0.75, 0.4, 0.6666666666666666, 0.7142857142857143, 0.5]\n",
      "Using ibm_lagos\n",
      "n = 9\n",
      "[1.0, 1.0, 0.6666666666666666, 0.75, 0.4, 0.6666666666666666, 0.7142857142857143, 0.5, 0.6666666666666666]\n",
      "Using ibm_lagos\n",
      "n = 10\n",
      "[1.0, 1.0, 0.6666666666666666, 0.75, 0.4, 0.6666666666666666, 0.7142857142857143, 0.5, 0.6666666666666666, 0.5]\n"
     ]
    }
   ],
   "source": [
    "run_circuits(1, 11, IBMQ_backends.ibm_lagos, False)"
   ]
  },
  {
   "cell_type": "code",
   "execution_count": 5,
   "metadata": {},
   "outputs": [],
   "source": [
    "from qiskit.providers.ibmq import least_busy"
   ]
  }
 ],
 "metadata": {
  "kernelspec": {
   "display_name": "Python 3 (ipykernel)",
   "language": "python",
   "name": "python3"
  },
  "language_info": {
   "codemirror_mode": {
    "name": "ipython",
    "version": 3
   },
   "file_extension": ".py",
   "mimetype": "text/x-python",
   "name": "python",
   "nbconvert_exporter": "python",
   "pygments_lexer": "ipython3",
   "version": "3.11.5"
  },
  "widgets": {
   "application/vnd.jupyter.widget-state+json": {
    "state": {},
    "version_major": 2,
    "version_minor": 0
   }
  }
 },
 "nbformat": 4,
 "nbformat_minor": 5
}
