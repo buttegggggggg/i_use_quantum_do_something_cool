{
 "cells": [
  {
   "cell_type": "code",
   "execution_count": null,
   "id": "c7702374-b18b-4189-af83-88f3a9b785ce",
   "metadata": {
    "tags": []
   },
   "outputs": [
    {
     "name": "stdout",
     "output_type": "stream",
     "text": [
      "Using ibm_lagos\n"
     ]
    }
   ],
   "source": [
    "from qiskit import QuantumCircuit, Aer, transpile\n",
    "from qiskit.providers.ibmq import least_busy, IBMQ\n",
    "from qiskit.tools.monitor import job_monitor\n",
    "\n",
    "\n",
    "# Load the saved IBM Q account\n",
    "IBMQ.load_account()\n",
    "\n",
    "# Get the provider\n",
    "provider = IBMQ.get_provider()\n",
    "\n",
    "# Select a quantum hardware backend\n",
    "available_backends = provider.backends(filters=lambda x: x.configuration().n_qubits >= 1 and not x.configuration().simulator)\n",
    "backend = least_busy(available_backends)\n",
    "print(f\"Using {backend.name()}\")\n",
    "\n",
    "# 創建一個量子電路\n",
    "qc = QuantumCircuit(1, 1)\n",
    "qc.h(0)  # 添加 H-gate\n",
    "qc.measure([0], [0])\n",
    "\n",
    "# 編譯電路\n",
    "compiled_circuit = transpile(qc,  backend=backend, optimization_level=3)\n",
    "\n",
    "\n",
    "results_list = []\n",
    "\n",
    "# 迴圈 n=1 ~ 10000\n",
    "for n in range(1, 4):\n",
    "    # 執行模擬\n",
    "    job =  backend.run(compiled_circuit, shots=n)\n",
    "    result = job.result()\n",
    "    counts = result.get_counts(qc)\n",
    "    \n",
    "    # 獲取結果為 0 的次數並除以 n\n",
    "    zero_counts = counts.get('0', 0)\n",
    "    ratio = zero_counts / n\n",
    "    results_list.append(ratio)\n",
    "    \n",
    "    # 打印結果列表\n",
    "    print(results_list)\n",
    "\n"
   ]
  },
  {
   "cell_type": "code",
   "execution_count": null,
   "id": "5d31c200-08a4-42ac-b193-2954978e4ae5",
   "metadata": {},
   "outputs": [],
   "source": []
  }
 ],
 "metadata": {
  "kernelspec": {
   "display_name": "Python 3 (ipykernel)",
   "language": "python",
   "name": "python3"
  },
  "language_info": {
   "codemirror_mode": {
    "name": "ipython",
    "version": 3
   },
   "file_extension": ".py",
   "mimetype": "text/x-python",
   "name": "python",
   "nbconvert_exporter": "python",
   "pygments_lexer": "ipython3",
   "version": "3.10.8"
  },
  "widgets": {
   "application/vnd.jupyter.widget-state+json": {
    "state": {},
    "version_major": 2,
    "version_minor": 0
   }
  }
 },
 "nbformat": 4,
 "nbformat_minor": 5
}
